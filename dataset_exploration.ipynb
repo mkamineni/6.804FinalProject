{
 "cells": [
  {
   "cell_type": "code",
   "execution_count": 2,
   "metadata": {},
   "outputs": [],
   "source": [
    "import pandas"
   ]
  },
  {
   "cell_type": "code",
   "execution_count": 4,
   "metadata": {},
   "outputs": [],
   "source": [
    "df = pandas.read_csv('dataset_diabetes/diabetic_data.csv')"
   ]
  },
  {
   "cell_type": "code",
   "execution_count": 16,
   "metadata": {},
   "outputs": [
    {
     "data": {
      "text/html": [
       "<div>\n",
       "<style scoped>\n",
       "    .dataframe tbody tr th:only-of-type {\n",
       "        vertical-align: middle;\n",
       "    }\n",
       "\n",
       "    .dataframe tbody tr th {\n",
       "        vertical-align: top;\n",
       "    }\n",
       "\n",
       "    .dataframe thead th {\n",
       "        text-align: right;\n",
       "    }\n",
       "</style>\n",
       "<table border=\"1\" class=\"dataframe\">\n",
       "  <thead>\n",
       "    <tr style=\"text-align: right;\">\n",
       "      <th></th>\n",
       "      <th>encounter_id</th>\n",
       "      <th>patient_nbr</th>\n",
       "      <th>race</th>\n",
       "      <th>gender</th>\n",
       "      <th>age</th>\n",
       "      <th>weight</th>\n",
       "      <th>admission_type_id</th>\n",
       "      <th>discharge_disposition_id</th>\n",
       "      <th>admission_source_id</th>\n",
       "      <th>time_in_hospital</th>\n",
       "      <th>...</th>\n",
       "      <th>examide</th>\n",
       "      <th>citoglipton</th>\n",
       "      <th>insulin</th>\n",
       "      <th>glyburide-metformin</th>\n",
       "      <th>glipizide-metformin</th>\n",
       "      <th>glimepiride-pioglitazone</th>\n",
       "      <th>metformin-rosiglitazone</th>\n",
       "      <th>metformin-pioglitazone</th>\n",
       "      <th>change</th>\n",
       "      <th>readmitted</th>\n",
       "    </tr>\n",
       "    <tr>\n",
       "      <th>diabetesMed</th>\n",
       "      <th></th>\n",
       "      <th></th>\n",
       "      <th></th>\n",
       "      <th></th>\n",
       "      <th></th>\n",
       "      <th></th>\n",
       "      <th></th>\n",
       "      <th></th>\n",
       "      <th></th>\n",
       "      <th></th>\n",
       "      <th></th>\n",
       "      <th></th>\n",
       "      <th></th>\n",
       "      <th></th>\n",
       "      <th></th>\n",
       "      <th></th>\n",
       "      <th></th>\n",
       "      <th></th>\n",
       "      <th></th>\n",
       "      <th></th>\n",
       "      <th></th>\n",
       "    </tr>\n",
       "  </thead>\n",
       "  <tbody>\n",
       "    <tr>\n",
       "      <th>No</th>\n",
       "      <td>23403</td>\n",
       "      <td>23403</td>\n",
       "      <td>23403</td>\n",
       "      <td>23403</td>\n",
       "      <td>23403</td>\n",
       "      <td>23403</td>\n",
       "      <td>23403</td>\n",
       "      <td>23403</td>\n",
       "      <td>23403</td>\n",
       "      <td>23403</td>\n",
       "      <td>...</td>\n",
       "      <td>23403</td>\n",
       "      <td>23403</td>\n",
       "      <td>23403</td>\n",
       "      <td>23403</td>\n",
       "      <td>23403</td>\n",
       "      <td>23403</td>\n",
       "      <td>23403</td>\n",
       "      <td>23403</td>\n",
       "      <td>23403</td>\n",
       "      <td>23403</td>\n",
       "    </tr>\n",
       "    <tr>\n",
       "      <th>Yes</th>\n",
       "      <td>78363</td>\n",
       "      <td>78363</td>\n",
       "      <td>78363</td>\n",
       "      <td>78363</td>\n",
       "      <td>78363</td>\n",
       "      <td>78363</td>\n",
       "      <td>78363</td>\n",
       "      <td>78363</td>\n",
       "      <td>78363</td>\n",
       "      <td>78363</td>\n",
       "      <td>...</td>\n",
       "      <td>78363</td>\n",
       "      <td>78363</td>\n",
       "      <td>78363</td>\n",
       "      <td>78363</td>\n",
       "      <td>78363</td>\n",
       "      <td>78363</td>\n",
       "      <td>78363</td>\n",
       "      <td>78363</td>\n",
       "      <td>78363</td>\n",
       "      <td>78363</td>\n",
       "    </tr>\n",
       "  </tbody>\n",
       "</table>\n",
       "<p>2 rows × 49 columns</p>\n",
       "</div>"
      ],
      "text/plain": [
       "             encounter_id  patient_nbr   race  gender    age  weight  \\\n",
       "diabetesMed                                                            \n",
       "No                  23403        23403  23403   23403  23403   23403   \n",
       "Yes                 78363        78363  78363   78363  78363   78363   \n",
       "\n",
       "             admission_type_id  discharge_disposition_id  admission_source_id  \\\n",
       "diabetesMed                                                                     \n",
       "No                       23403                     23403                23403   \n",
       "Yes                      78363                     78363                78363   \n",
       "\n",
       "             time_in_hospital     ...      examide  citoglipton  insulin  \\\n",
       "diabetesMed                       ...                                      \n",
       "No                      23403     ...        23403        23403    23403   \n",
       "Yes                     78363     ...        78363        78363    78363   \n",
       "\n",
       "             glyburide-metformin  glipizide-metformin  \\\n",
       "diabetesMed                                             \n",
       "No                         23403                23403   \n",
       "Yes                        78363                78363   \n",
       "\n",
       "             glimepiride-pioglitazone  metformin-rosiglitazone  \\\n",
       "diabetesMed                                                      \n",
       "No                              23403                    23403   \n",
       "Yes                             78363                    78363   \n",
       "\n",
       "             metformin-pioglitazone  change  readmitted  \n",
       "diabetesMed                                              \n",
       "No                            23403   23403       23403  \n",
       "Yes                           78363   78363       78363  \n",
       "\n",
       "[2 rows x 49 columns]"
      ]
     },
     "execution_count": 16,
     "metadata": {},
     "output_type": "execute_result"
    }
   ],
   "source": [
    "df.groupby('diabetesMed').count()"
   ]
  },
  {
   "cell_type": "code",
   "execution_count": 22,
   "metadata": {},
   "outputs": [
    {
     "data": {
      "text/plain": [
       "71518"
      ]
     },
     "execution_count": 22,
     "metadata": {},
     "output_type": "execute_result"
    }
   ],
   "source": [
    "len(set(df['patient_nbr']))"
   ]
  },
  {
   "cell_type": "code",
   "execution_count": 23,
   "metadata": {},
   "outputs": [
    {
     "data": {
      "text/plain": [
       "101766"
      ]
     },
     "execution_count": 23,
     "metadata": {},
     "output_type": "execute_result"
    }
   ],
   "source": [
    "len(df)"
   ]
  },
  {
   "cell_type": "code",
   "execution_count": null,
   "metadata": {},
   "outputs": [],
   "source": []
  }
 ],
 "metadata": {
  "kernelspec": {
   "display_name": "Python 3",
   "language": "python",
   "name": "python3"
  },
  "language_info": {
   "codemirror_mode": {
    "name": "ipython",
    "version": 3
   },
   "file_extension": ".py",
   "mimetype": "text/x-python",
   "name": "python",
   "nbconvert_exporter": "python",
   "pygments_lexer": "ipython3",
   "version": "3.6.0"
  }
 },
 "nbformat": 4,
 "nbformat_minor": 2
}
