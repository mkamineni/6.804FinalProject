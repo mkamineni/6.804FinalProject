{
 "cells": [
  {
   "cell_type": "code",
   "execution_count": 15,
   "metadata": {},
   "outputs": [],
   "source": [
    "import pandas as pd\n",
    "import matplotlib.pyplot as plt"
   ]
  },
  {
   "cell_type": "code",
   "execution_count": 30,
   "metadata": {
    "scrolled": true
   },
   "outputs": [
    {
     "data": {
      "text/plain": [
       "['encounter_id',\n",
       " 'patient_nbr',\n",
       " 'race',\n",
       " 'gender',\n",
       " 'age',\n",
       " 'weight',\n",
       " 'admission_type_id',\n",
       " 'discharge_disposition_id',\n",
       " 'admission_source_id',\n",
       " 'time_in_hospital',\n",
       " 'payer_code',\n",
       " 'medical_specialty',\n",
       " 'num_lab_procedures',\n",
       " 'num_procedures',\n",
       " 'num_medications',\n",
       " 'number_outpatient',\n",
       " 'number_emergency',\n",
       " 'number_inpatient',\n",
       " 'diag_1',\n",
       " 'diag_2',\n",
       " 'diag_3',\n",
       " 'number_diagnoses',\n",
       " 'max_glu_serum',\n",
       " 'A1Cresult',\n",
       " 'metformin',\n",
       " 'repaglinide',\n",
       " 'nateglinide',\n",
       " 'chlorpropamide',\n",
       " 'glimepiride',\n",
       " 'acetohexamide',\n",
       " 'glipizide',\n",
       " 'glyburide',\n",
       " 'tolbutamide',\n",
       " 'pioglitazone',\n",
       " 'rosiglitazone',\n",
       " 'acarbose',\n",
       " 'miglitol',\n",
       " 'troglitazone',\n",
       " 'tolazamide',\n",
       " 'examide',\n",
       " 'citoglipton',\n",
       " 'insulin',\n",
       " 'glyburide-metformin',\n",
       " 'glipizide-metformin',\n",
       " 'glimepiride-pioglitazone',\n",
       " 'metformin-rosiglitazone',\n",
       " 'metformin-pioglitazone',\n",
       " 'change',\n",
       " 'diabetesMed',\n",
       " 'readmitted']"
      ]
     },
     "execution_count": 30,
     "metadata": {},
     "output_type": "execute_result"
    }
   ],
   "source": [
    "'''\n",
    "the dataset exploration of the first 25 features present in the dataset\n",
    "'''\n",
    "fd = pd.read_csv(\"dataset_diabetes/diabetic_data.csv\")\n",
    "list(fd)\n"
   ]
  },
  {
   "cell_type": "code",
   "execution_count": 17,
   "metadata": {},
   "outputs": [
    {
     "name": "stdout",
     "output_type": "stream",
     "text": [
      "Number of patients: 101766\n"
     ]
    }
   ],
   "source": [
    "print(\"Number of patients: %d\" %len(fd['encounter_id']))\n"
   ]
  },
  {
   "cell_type": "code",
   "execution_count": 18,
   "metadata": {},
   "outputs": [
    {
     "data": {
      "text/plain": [
       "71518"
      ]
     },
     "execution_count": 18,
     "metadata": {},
     "output_type": "execute_result"
    }
   ],
   "source": [
    "len(set(list(fd['patient_nbr'])))"
   ]
  },
  {
   "cell_type": "code",
   "execution_count": 19,
   "metadata": {},
   "outputs": [
    {
     "name": "stdout",
     "output_type": "stream",
     "text": [
      "Admit vs Readmitted: {'<30', 'NO', '>30'}\n",
      "Patient was <30: 11357\n",
      "Patient was NO: 54864\n",
      "Patient was >30: 35545\n"
     ]
    }
   ],
   "source": [
    "readmits = fd['readmitted']\n",
    "print(\"Admit vs Readmitted: %s\" %set(readmits))\n",
    "for elem in set(readmits):\n",
    "    print(\"Patient was %s: %d\" %(elem, len(fd[fd['readmitted']==elem])))"
   ]
  },
  {
   "cell_type": "code",
   "execution_count": 20,
   "metadata": {},
   "outputs": [
    {
     "name": "stdout",
     "output_type": "stream",
     "text": [
      "Minimum encounter id: 12522\n",
      "Maximum encounter id: 443867222\n"
     ]
    }
   ],
   "source": [
    "encounters = fd['encounter_id']\n",
    "print(\"Minimum encounter id: %d\" %min(encounters))\n",
    "print(\"Maximum encounter id: %d\" %max(encounters))"
   ]
  },
  {
   "cell_type": "code",
   "execution_count": 21,
   "metadata": {},
   "outputs": [
    {
     "name": "stdout",
     "output_type": "stream",
     "text": [
      "Minimum patient number: 135\n",
      "Maximum patient number: 189502619\n"
     ]
    }
   ],
   "source": [
    "patient_nbrs = fd['patient_nbr']\n",
    "print(\"Minimum patient number: %d\" %min(patient_nbrs))\n",
    "print(\"Maximum patient number: %d\" %max(patient_nbrs))\n",
    "#should be unique for each patient?"
   ]
  },
  {
   "cell_type": "code",
   "execution_count": 22,
   "metadata": {},
   "outputs": [
    {
     "name": "stdout",
     "output_type": "stream",
     "text": [
      "Unique races present: {'Hispanic', 'AfricanAmerican', '?', 'Caucasian', 'Other', 'Asian'}\n",
      "Number of patients with race Hispanic: 2037\n",
      "Number of patients with race AfricanAmerican: 19210\n",
      "Number of patients with race ?: 2273\n",
      "Number of patients with race Caucasian: 76099\n",
      "Number of patients with race Other: 1506\n",
      "Number of patients with race Asian: 641\n"
     ]
    }
   ],
   "source": [
    "races = fd['race']\n",
    "print(\"Unique races present: %s\" %set(races))\n",
    "for elem in set(races):\n",
    "    print(\"Number of patients with race %s: %d\" %(elem, len(fd[fd['race']==elem])))"
   ]
  },
  {
   "cell_type": "code",
   "execution_count": 23,
   "metadata": {},
   "outputs": [
    {
     "name": "stdout",
     "output_type": "stream",
     "text": [
      "Unique genders present: {'Unknown/Invalid', 'Female', 'Male'}\n",
      "Number of patients with gender Unknown/Invalid: 3\n",
      "Number of patients with gender Female: 54708\n",
      "Number of patients with gender Male: 47055\n"
     ]
    }
   ],
   "source": [
    "genders = fd['gender']\n",
    "print(\"Unique genders present: %s\" %set(genders))\n",
    "for elem in set(genders):\n",
    "    print(\"Number of patients with gender %s: %d\" %(elem, len(fd[fd['gender']==elem])))\n"
   ]
  },
  {
   "cell_type": "code",
   "execution_count": 24,
   "metadata": {},
   "outputs": [
    {
     "name": "stdout",
     "output_type": "stream",
     "text": [
      "Unique age ranges present: {'[10-20)', '[40-50)', '[20-30)', '[60-70)', '[0-10)', '[30-40)', '[70-80)', '[80-90)', '[50-60)', '[90-100)'}\n",
      "Number of patients with age range [10-20): 691\n",
      "Number of patients with age range [40-50): 9685\n",
      "Number of patients with age range [20-30): 1657\n",
      "Number of patients with age range [60-70): 22483\n",
      "Number of patients with age range [0-10): 161\n",
      "Number of patients with age range [30-40): 3775\n",
      "Number of patients with age range [70-80): 26068\n",
      "Number of patients with age range [80-90): 17197\n",
      "Number of patients with age range [50-60): 17256\n",
      "Number of patients with age range [90-100): 2793\n"
     ]
    }
   ],
   "source": [
    "ages = fd['age']\n",
    "print(\"Unique age ranges present: %s\" %set(ages))\n",
    "for elem in set(ages):\n",
    "    print(\"Number of patients with age range %s: %d\" %(elem, len(fd[fd['age']==elem])))\n"
   ]
  },
  {
   "cell_type": "code",
   "execution_count": 25,
   "metadata": {},
   "outputs": [
    {
     "name": "stdout",
     "output_type": "stream",
     "text": [
      "Unique weight ranges present: {'[50-75)', '[0-25)', '[100-125)', '[175-200)', '[25-50)', '>200', '[75-100)', '?', '[125-150)', '[150-175)'}\n",
      "Number of patients with weight range [50-75): 897\n",
      "Number of patients with weight range [0-25): 48\n",
      "Number of patients with weight range [100-125): 625\n",
      "Number of patients with weight range [175-200): 11\n",
      "Number of patients with weight range [25-50): 97\n",
      "Number of patients with weight range >200: 3\n",
      "Number of patients with weight range [75-100): 1336\n",
      "Number of patients with weight range ?: 98569\n",
      "Number of patients with weight range [125-150): 145\n",
      "Number of patients with weight range [150-175): 35\n"
     ]
    }
   ],
   "source": [
    "weights = fd['weight']\n",
    "print(\"Unique weight ranges present: %s\" %set(weights))\n",
    "for elem in set(weights):\n",
    "    print(\"Number of patients with weight range %s: %d\" %(elem, len(fd[fd['weight']==elem])))\n"
   ]
  },
  {
   "cell_type": "code",
   "execution_count": 26,
   "metadata": {},
   "outputs": [
    {
     "name": "stdout",
     "output_type": "stream",
     "text": [
      "Minimum encounter id: 1\n",
      "Maximum encounter id: 443867222\n"
     ]
    }
   ],
   "source": [
    "admissions = fd['admission_type_id']\n",
    "print(\"Minimum encounter id: %d\" %min(admissions))\n",
    "print(\"Maximum encounter id: %d\" %max(encounters))"
   ]
  },
  {
   "cell_type": "code",
   "execution_count": 27,
   "metadata": {},
   "outputs": [
    {
     "name": "stdout",
     "output_type": "stream",
     "text": [
      "Minimum admit stay: 1\n",
      "Maximum max admit stay: 14\n",
      "Stay equal to 0 days: 0\n",
      "Stay equal to 1 days: 14208\n",
      "Stay equal to 2 days: 17224\n",
      "Stay equal to 3 days: 17756\n",
      "Stay equal to 4 days: 13924\n",
      "Stay equal to 5 days: 9966\n",
      "Stay equal to 6 days: 7539\n",
      "Stay equal to 7 days: 5859\n",
      "Stay equal to 8 days: 4391\n",
      "Stay equal to 9 days: 3002\n",
      "Stay equal to 10 days: 2342\n",
      "Stay equal to 11 days: 1855\n",
      "Stay equal to 12 days: 1448\n",
      "Stay equal to 13 days: 1210\n"
     ]
    }
   ],
   "source": [
    "times = fd['time_in_hospital']\n",
    "print(\"Minimum admit stay: %d\" %min(times))\n",
    "print(\"Maximum max admit stay: %d\" %max(times))\n",
    "for elem in range(max(times)):\n",
    "    print(\"Stay equal to %d days: %d\" %(elem, len(fd[fd['time_in_hospital']==elem])))"
   ]
  },
  {
   "cell_type": "code",
   "execution_count": 39,
   "metadata": {},
   "outputs": [
    {
     "name": "stdout",
     "output_type": "stream",
     "text": [
      "Minimum num_lab_procedures: 1\n",
      "Maximum num_lab_procedures: 132\n",
      "Minimum num_procedures: 0\n",
      "Maximum num_procedures: 6\n",
      "Minimum num_medications: 1\n",
      "Maximum num_medications: 81\n",
      "Minimum number_outpatient: 0\n",
      "Maximum number_outpatient: 42\n",
      "Minimum number_emergency: 0\n",
      "Maximum number_emergency: 76\n",
      "Minimum number_inpatient: 0\n",
      "Maximum number_inpatient: 21\n",
      "cannot get min/max\n",
      "cannot get min/max\n",
      "cannot get min/max\n",
      "Minimum number_diagnoses: 1\n",
      "Maximum number_diagnoses: 16\n"
     ]
    },
    {
     "data": {
      "image/png": "[encoded data removed]",
      "text/plain": [
       "<matplotlib.figure.Figure at 0x11638c860>"
      ]
     },
     "metadata": {},
     "output_type": "display_data"
    },
    {
     "data": {
      "image/png": "[encoded data removed]",
      "text/plain": [
       "<matplotlib.figure.Figure at 0x11917fba8>"
      ]
     },
     "metadata": {},
     "output_type": "display_data"
    },
    {
     "data": {
      "image/png": "[encoded data removed]",
      "text/plain": [
       "<matplotlib.figure.Figure at 0x1190c8080>"
      ]
     },
     "metadata": {},
     "output_type": "display_data"
    },
    {
     "data": {
      "image/png": "[encoded data removed]",
      "text/plain": [
       "<matplotlib.figure.Figure at 0x11921e668>"
      ]
     },
     "metadata": {},
     "output_type": "display_data"
    },
    {
     "data": {
      "image/png": "[encoded data removed]",
      "text/plain": [
       "<matplotlib.figure.Figure at 0x119a7a8d0>"
      ]
     },
     "metadata": {},
     "output_type": "display_data"
    },
    {
     "data": {
      "image/png": "[encoded data removed]",
      "text/plain": [
       "<matplotlib.figure.Figure at 0x11958b2e8>"
      ]
     },
     "metadata": {},
     "output_type": "display_data"
    },
    {
     "data": {
      "image/png": "[encoded data removed]",
      "text/plain": [
       "<matplotlib.figure.Figure at 0x118c10080>"
      ]
     },
     "metadata": {},
     "output_type": "display_data"
    },
    {
     "data": {
      "image/png": "[encoded data removed]",
      "text/plain": [
       "<matplotlib.figure.Figure at 0x117fe6208>"
      ]
     },
     "metadata": {},
     "output_type": "display_data"
    },
    {
     "data": {
      "image/png": "[encoded data removed]",
      "text/plain": [
       "<matplotlib.figure.Figure at 0x116b99908>"
      ]
     },
     "metadata": {},
     "output_type": "display_data"
    },
    {
     "data": {
      "image/png": "[encoded data removed]",
      "text/plain": [
       "<matplotlib.figure.Figure at 0x11537fe10>"
      ]
     },
     "metadata": {},
     "output_type": "display_data"
    }
   ],
   "source": [
    "for string in [ 'num_lab_procedures',\n",
    " 'num_procedures',\n",
    " 'num_medications',\n",
    " 'number_outpatient',\n",
    " 'number_emergency',\n",
    " 'number_inpatient',\n",
    " 'diag_1',\n",
    " 'diag_2',\n",
    " 'diag_3',\n",
    " 'number_diagnoses'\n",
    "]:\n",
    "    vars = fd[string]\n",
    "    try:\n",
    "        print(\"Minimum %s: %d\" %(string, min(vars)))\n",
    "        print(\"Maximum %s: %d\" %(string, max(vars)))\n",
    "    except:\n",
    "        print('cannot get min/max')\n",
    "\n",
    "    # matplotlib histogram\n",
    "    plt.figure()\n",
    "    plt.title(string)\n",
    "    plt.hist(fd[string], color = 'blue', edgecolor = 'black',\n",
    "             bins = int(180/5))\n"
   ]
  },
  {
   "cell_type": "code",
   "execution_count": 41,
   "metadata": {},
   "outputs": [
    {
     "name": "stdout",
     "output_type": "stream",
     "text": [
      "cannot get min/max\n",
      "cannot get min/max\n",
      "cannot get min/max\n"
     ]
    },
    {
     "data": {
      "image/png": "[encoded data removed]",
      "text/plain": [
       "<matplotlib.figure.Figure at 0x119253a90>"
      ]
     },
     "metadata": {},
     "output_type": "display_data"
    },
    {
     "data": {
      "image/png": "[encoded data removed]",
      "text/plain": [
       "<matplotlib.figure.Figure at 0x1191f0320>"
      ]
     },
     "metadata": {},
     "output_type": "display_data"
    },
    {
     "data": {
      "image/png": "[encoded data removed]",
      "text/plain": [
       "<matplotlib.figure.Figure at 0x11590edd8>"
      ]
     },
     "metadata": {},
     "output_type": "display_data"
    }
   ],
   "source": [
    "for string in ['max_glu_serum',\n",
    " 'A1Cresult',\n",
    " 'metformin'\n",
    "]:\n",
    "    vars = fd[string]\n",
    "    try:\n",
    "        print(\"Minimum %s: %d\" %(string, min(vars)))\n",
    "        print(\"Maximum %s: %d\" %(string, max(vars)))\n",
    "    except:\n",
    "        print('cannot get min/max')\n",
    "\n",
    "    # matplotlib histogram\n",
    "    plt.figure()\n",
    "    plt.title(string)\n",
    "    plt.hist(fd[string], color = 'blue', edgecolor = 'black',\n",
    "             bins = int(180/5))\n"
   ]
  },
  {
   "cell_type": "code",
   "execution_count": null,
   "metadata": {},
   "outputs": [],
   "source": []
  }
 ],
 "metadata": {
  "kernelspec": {
   "display_name": "Python 3",
   "language": "python",
   "name": "python3"
  },
  "language_info": {
   "codemirror_mode": {
    "name": "ipython",
    "version": 3
   },
   "file_extension": ".py",
   "mimetype": "text/x-python",
   "name": "python",
   "nbconvert_exporter": "python",
   "pygments_lexer": "ipython3",
   "version": "3.6.0"
  }
 },
 "nbformat": 4,
 "nbformat_minor": 2
}
